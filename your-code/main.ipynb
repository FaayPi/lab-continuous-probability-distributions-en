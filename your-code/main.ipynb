{
  "cells": [
    {
      "cell_type": "markdown",
      "metadata": {
        "id": "o88UZWOylyUx"
      },
      "source": [
        "# Before your start:\n",
        "\n",
        "    Read the README.md file\n",
        "    Comment as much as you can and use the resources (README.md file)\n",
        "    Happy learning!"
      ]
    },
    {
      "cell_type": "markdown",
      "metadata": {
        "id": "4WJrbVJelyU0"
      },
      "source": [
        "In this exercise, we  will generate random numbers from the continuous disributions we learned in the lesson. There are two ways to generate random numbers:\n",
        "\n",
        "1. Using the numpy library\n",
        "1. using the Scipy library\n",
        "\n",
        "Use either or both of the lbraries in this exercise."
      ]
    },
    {
      "cell_type": "code",
      "execution_count": 1,
      "metadata": {
        "id": "wiAtQ_4klyU1"
      },
      "outputs": [],
      "source": [
        "import matplotlib.pyplot as plt\n",
        "import pandas as pd\n",
        "import numpy as np\n",
        "import math\n",
        "import seaborn as sns"
      ]
    },
    {
      "cell_type": "markdown",
      "metadata": {
        "id": "1-8voRNClyU2"
      },
      "source": [
        "## Uniform Distribution\n",
        "\n",
        "To generate uniform random numbers between any two given values using scipy, we can either use the following code or the code that we have\n",
        "discussed in class:"
      ]
    },
    {
      "cell_type": "code",
      "execution_count": 2,
      "metadata": {
        "colab": {
          "base_uri": "https://localhost:8080/"
        },
        "id": "b5YjpMDNlyU3",
        "outputId": "75d1d3c2-b4fa-4041-af0c-2e6584f9d883"
      },
      "outputs": [
        {
          "output_type": "stream",
          "name": "stdout",
          "text": [
            "[13.60886331 15.51396208 17.48207461 13.27061904 18.95064648]\n"
          ]
        }
      ],
      "source": [
        "# your code here\n",
        "\n",
        "from scipy.stats import uniform\n",
        "\n",
        "# Parameter: low = 10, high = 20\n",
        "low = 10\n",
        "high = 20\n",
        "size = 5  # Anzahl der Zufallszahlen\n",
        "\n",
        "# rvs() = random variates\n",
        "random_numbers = uniform.rvs(loc=low, scale=high - low, size=size)\n",
        "\n",
        "print(random_numbers)"
      ]
    },
    {
      "cell_type": "markdown",
      "metadata": {
        "id": "6RtbNgJslyU3"
      },
      "source": [
        "**Your task:**\n",
        "\n",
        "1. Based on the code above, write a function that generates uniformly distributed random numbers. There are several requirements for your function:\n",
        "    * It should accept 3 parameters:\n",
        "        * `bottom` - the lower boundary of the generated numbers\n",
        "        * `ceiling` - the upper boundary of the generated numbers\n",
        "        * `count` - how many numbers to generate\n",
        "    * It should return an array of uniformly distributed random numbers\n",
        "\n",
        "1. Call your function with 2 sets of params below:\n",
        "    * bottom=10, ceiling=15, count=100\n",
        "    * bottom=10, ceiling=60, count=1,000\n",
        "\n",
        "1. Plot the uniform distributions generated above using histograms, where x axis is the value and y axis is the count. Let the histogram's number of bins be 10.\n",
        "\n",
        "Your output should look like below:\n",
        "\n",
        "![uniform distribution](ud.png)"
      ]
    },
    {
      "cell_type": "code",
      "execution_count": 7,
      "metadata": {
        "colab": {
          "base_uri": "https://localhost:8080/"
        },
        "id": "lb3fbVINlyU4",
        "outputId": "85944f40-0e04-43c7-be7f-44c327d5b443"
      },
      "outputs": [
        {
          "output_type": "stream",
          "name": "stdout",
          "text": [
            "[11.74396048 13.15583565 12.83935677 14.91872039 12.43403238 10.67939557\n",
            " 13.35901274 12.21968866 14.93097241 13.85691576 10.65650024 13.07477995\n",
            " 12.71632806 12.23678958 10.822572   11.54918675 13.46044191 14.07253842\n",
            " 10.94661448 13.30794067 12.23882203 10.81313034 13.54032575 12.34917616\n",
            " 10.84489006 14.14775545 11.06278098 11.04268021 13.24807522 14.31629814\n",
            " 11.44026926 13.66333826 13.88435923 12.59814974 12.26346081 11.78002386\n",
            " 14.65771118 13.92309756 13.64897913 12.29214565 11.3361258  13.91063259\n",
            " 14.62745283 14.34978209 13.35735079 11.69641193 11.97352767 13.07626021\n",
            " 12.53139133 13.34178464 10.18496947 10.17085081 11.96004683 13.0633403\n",
            " 11.41868273 12.53998125 14.90778747 12.16288268 11.59280068 10.05450296\n",
            " 10.50917283 12.37041992 13.40405784 13.38237909 11.90731293 11.58216642\n",
            " 14.71101521 14.54565975 10.55856042 11.67676814 11.59790702 12.73770605\n",
            " 13.5651106  10.24904615 14.51821208 13.81558555 12.94808497 10.13589036\n",
            " 14.24650465 12.77617704 10.65067608 11.22184318 13.44933385 10.019423\n",
            " 13.41341911 14.5145702  12.34719537 12.98803803 12.54161147 13.77395191\n",
            " 13.68767609 14.46630564 14.60774651 14.94748915 10.8467846  10.94477784\n",
            " 14.58225013 14.26044199 14.12868439 12.31044458]\n"
          ]
        }
      ],
      "source": [
        "from scipy.stats import uniform\n",
        "bottom = 10\n",
        "ceiling = 15\n",
        "count = 100\n",
        "\n",
        "# rvs() = random variates\n",
        "random_numbers_15 = uniform.rvs(loc=bottom, scale=ceiling - bottom, size=count)\n",
        "\n",
        "print(random_numbers_15)\n"
      ]
    },
    {
      "cell_type": "code",
      "execution_count": 8,
      "metadata": {
        "colab": {
          "base_uri": "https://localhost:8080/"
        },
        "id": "gSyEIgdclyU4",
        "outputId": "6255caa8-56a7-492e-eabb-184a07e3dc9f"
      },
      "outputs": [
        {
          "output_type": "stream",
          "name": "stdout",
          "text": [
            "[30.61274257 43.87394626 36.36350545 14.62852156 57.87576272 16.20842304\n",
            " 21.54416333 29.91047547 41.13822854 23.5252157  15.458535   21.33207394\n",
            " 23.97513262 26.94264037 34.76755849 51.53496202 45.2441636  10.06163908\n",
            " 23.0537351  37.73236367 35.80018542 18.57003813 59.22122599 42.66519202\n",
            " 12.88553898 48.77501606 57.71162601 36.82746463 39.99996409 32.04553598\n",
            " 17.89744457 50.83712674 14.27745511 31.50626464 58.47942833 27.97029999\n",
            " 26.81088208 30.07384132 56.56165598 19.18992259 23.61083952 17.40557691\n",
            " 49.66914966 46.37264101 59.23123324 23.24507933 49.88536044 12.81740134\n",
            " 44.84917588 32.36441944 23.24383119 19.89501334 10.94496249 47.6445456\n",
            " 35.42760546 15.1139637  28.2660835  34.32145459 14.96897616 41.2361715\n",
            " 18.49643625 21.0112881  17.41073061 31.96167712 21.43531153 20.28448665\n",
            " 21.32574836 15.14779957 34.0966439  55.20308684 23.59298751 24.38427375\n",
            " 29.1332767  12.35908623 22.2235582  15.1984399  30.13608271 50.2476498\n",
            " 41.21327117 44.75474961 21.09771293 20.82753743 34.39395812 21.20058488\n",
            " 20.96100362 45.29509093 56.06083465 49.0927429  10.32620442 25.24542148\n",
            " 22.20969882 49.40933801 11.24662796 19.86308314 31.9447131  57.78021828\n",
            " 43.55803158 21.64908929 47.75523136 33.37271041]\n"
          ]
        }
      ],
      "source": [
        "bottom = 10\n",
        "ceiling = 60\n",
        "cont = 100\n",
        "\n",
        "# rvs() = random variates\n",
        "random_numbers_60 = uniform.rvs(loc=bottom, scale=ceiling - bottom, size=cont)\n",
        "\n",
        "print(random_numbers_60)"
      ]
    },
    {
      "cell_type": "code",
      "execution_count": 9,
      "metadata": {
        "scrolled": false,
        "colab": {
          "base_uri": "https://localhost:8080/",
          "height": 472
        },
        "id": "o4IFZaPxlyU4",
        "outputId": "8003e93e-5327-4a96-b191-738da799c035"
      },
      "outputs": [
        {
          "output_type": "display_data",
          "data": {
            "text/plain": [
              "<Figure size 640x480 with 1 Axes>"
            ],
            "image/png": "[encoded data removed]"
          },
          "metadata": {}
        }
      ],
      "source": [
        "# your code here\n",
        "\n",
        "plt.hist(random_numbers_15, bins=10, edgecolor='black')\n",
        "plt.title('Uniform distributions of 100 random numbers between 10-15')\n",
        "plt.xlabel('Values')\n",
        "plt.ylabel('Frequency')\n",
        "plt.grid(True)\n",
        "plt.show()"
      ]
    },
    {
      "cell_type": "code",
      "source": [
        "plt.hist(random_numbers_60, bins=10, edgecolor='black')\n",
        "plt.title('Uniform distributions of 100 random numbers between 10-60')\n",
        "plt.xlabel('Values')\n",
        "plt.ylabel('Frequency')\n",
        "plt.grid(True)\n",
        "plt.show()"
      ],
      "metadata": {
        "colab": {
          "base_uri": "https://localhost:8080/",
          "height": 472
        },
        "id": "jzFhbRoqoFW4",
        "outputId": "0b6f556d-e4e0-4cc5-a011-ad9e9fe404cd"
      },
      "execution_count": 10,
      "outputs": [
        {
          "output_type": "display_data",
          "data": {
            "text/plain": [
              "<Figure size 640x480 with 1 Axes>"
            ],
            "image/png": "[encoded data removed]"
          },
          "metadata": {}
        }
      ]
    },
    {
      "cell_type": "markdown",
      "metadata": {
        "id": "BFqVfpVVlyU5"
      },
      "source": [
        "How are the two distributions different?"
      ]
    },
    {
      "cell_type": "code",
      "execution_count": null,
      "metadata": {
        "id": "Yff6ZkCRlyU5"
      },
      "outputs": [],
      "source": [
        "# your answer below"
      ]
    },
    {
      "cell_type": "markdown",
      "metadata": {
        "id": "IFZvIXZclyU5"
      },
      "source": [
        "## Normal Distribution\n",
        "\n",
        "1. In the same way in the Uniform Distribution challenge, write a function that generates normally distributed random numbers.\n",
        "1. Generate 1,000 normally distributed numbers with the average of 10 and standard deviation of 1\n",
        "1. Generate 1,000 normally distributed numbers with the average of 10 and standard deviation of 50\n",
        "2. Plot the distributions of the data generated.\n",
        "\n",
        "Expected output:\n",
        "\n",
        "![normal distribution](nd.png)"
      ]
    },
    {
      "cell_type": "code",
      "execution_count": 14,
      "metadata": {
        "id": "dM71u0y5lyU5"
      },
      "outputs": [],
      "source": [
        "from scipy.stats import norm\n",
        "from scipy import stats"
      ]
    },
    {
      "cell_type": "code",
      "execution_count": 17,
      "metadata": {
        "colab": {
          "base_uri": "https://localhost:8080/"
        },
        "collapsed": true,
        "id": "WFtoKQX0lyU6",
        "outputId": "5236e579-a653-4347-842d-f01c26050905"
      },
      "outputs": [
        {
          "output_type": "stream",
          "name": "stdout",
          "text": [
            "[11.49548903 11.0054886   9.30481786  9.45027884 10.24829257 11.92433947\n",
            "  9.28298989 10.20314808  8.95033695 10.55803205  8.60217252  8.53321727\n",
            " 10.16362026  8.89363389 10.81655338  8.94705568  9.15749424  8.76656087\n",
            "  8.45398789  9.1514907  10.44964851  9.92929845 10.48752353 10.16949341\n",
            " 10.11517398  8.5003824   9.52057845 10.94694102 11.01557192  8.92108768\n",
            "  9.22941093  9.08233374  9.67412816 11.65028373  9.5039992  11.56312325\n",
            "  9.60458737  9.76079357  9.38894092 11.44613443 11.20668195 10.62939872\n",
            "  9.47238328 11.21373273 10.87331359 10.19166298 10.55237749  9.52223076\n",
            "  8.83051836 10.07912333  9.90637603  8.39604049  9.20864033 10.00462827\n",
            "  9.48205752  8.90940007  7.99751809  9.08903387  9.93393117 11.25161883\n",
            "  9.95855674 10.34989983 11.211229   12.39189999  9.03334831  9.91710632\n",
            " 10.75188182 10.04667739  8.71971055 10.35686752  9.09778452  8.96004822\n",
            " 11.24948057  9.57409635  8.25736385 10.11291606  8.80639478  9.45837201\n",
            " 10.00762819 11.15252453  8.9217718  10.9813436  10.18105218  8.84792354\n",
            "  9.37752423 10.80607774  9.03898414 10.09950055  8.43194965  9.47802588\n",
            "  9.46454903 10.93022886 10.15842162  9.87305785  9.6434776  11.52642003\n",
            " 10.7575913   9.45577552 10.45799792  9.53094209  9.03191369  9.37481811\n",
            "  8.1026772   7.55499216  8.89777305 10.2604204   9.50223369  9.24129026\n",
            " 11.33786994 10.26655321  9.75296262  9.81357751 10.40039281  9.5061513\n",
            " 11.06370223 10.26870479  9.0305604  11.70437178 11.22384469  8.63967324\n",
            "  7.85974945 10.51251747 11.37728118 11.0700296  11.32190119  9.83447941\n",
            "  8.85436244  8.41795345 10.19658761 10.73231512 10.30406566 10.93479063\n",
            "  8.96486136 10.00464931 10.32282129  9.82998238  7.87641943  9.93776312\n",
            "  9.22707843 10.96127185  8.62263796  9.96508501  9.29007664 10.53778752\n",
            " 10.63862785 10.65597099 11.32387897  8.25871773  8.42189435  8.51930096\n",
            "  8.6204312  11.06489712 10.028979   11.36402357  8.89941513 11.06633794\n",
            "  9.73650887  8.06936038 10.57055954  8.67758059 10.39419208 10.70544017\n",
            "  9.99639595 10.67387471 10.83485647 10.91082593  8.78491915  9.50507662\n",
            " 10.62310411 11.08859849  9.11656913  8.78398062 10.81725284  8.15864593\n",
            " 10.84894018  8.21699121  9.67067475  9.64455578 10.23363274 11.47989399\n",
            "  9.29460473 10.13445963  9.46283649  9.019512    9.37101723  9.05526379\n",
            "  8.82139124  7.15341373  9.76351476  9.29453387  9.46754591  9.04431725\n",
            "  9.10924001 12.07488293 10.25037059 11.30695485 11.16827995  9.06365545\n",
            "  8.4520665  10.20165304  9.46606915  9.43194426 10.4751246   7.46602628\n",
            "  9.11990142 10.2543954   9.88931548 10.59014626  9.47319    10.99789048\n",
            "  8.46223547 10.92880099  9.50477003  8.5732511  10.22159759  9.22099903\n",
            " 10.55211785 10.15320625 10.67446299  9.86835772 10.38179873  8.60953414\n",
            "  9.95452054  9.8719697  11.16016672  9.57883856 11.95517324  9.59352541\n",
            "  8.63212989  9.01715822  9.05558917  9.93048735 10.32888088 10.78073644\n",
            " 10.47237229  8.83754983  9.75177369 12.61966505 10.87926034  9.4089051\n",
            "  9.11756354  9.2281051   9.95117514  8.93009265  8.43728553 10.8050689\n",
            " 10.3990906  11.41428819 11.55246525 11.22142562 11.095203    7.70235777\n",
            "  8.6639289  11.27230059 10.55036951  9.45010424  9.10877834  8.03262541\n",
            "  8.51072729 10.63220222  9.93592449 11.4340133   8.87828412  9.9623651\n",
            " 11.64625162 10.12289682 10.76182711  8.09463201 11.22174458  9.90532226\n",
            " 10.74888769 10.39892674  9.48575216  8.6929204  10.58973653 11.50465836\n",
            "  8.09444892 10.59768318  8.34601854 10.55983217 10.93863545 10.78288202\n",
            "  8.08423679  9.10566879  8.35040088 10.97342146 10.18240338  9.88402062\n",
            "  9.60632489  9.8971629   9.00461336  9.04092813 10.4011532  10.03806451\n",
            "  9.86860745  9.70261847  8.18685289 10.30843837 10.30393472  9.17016532\n",
            "  9.04875318  9.54537784 10.20892962  9.01967637 10.24156961 10.82773403\n",
            " 11.54917119  9.96874331  9.91398129  9.87923471 10.02058591 11.60366476\n",
            "  9.44605341  9.86043596  8.6896215   8.96089383 11.35361485  9.16939679\n",
            " 11.28889262 10.35911277 10.48758447  9.80057818 10.93961796 10.91373347\n",
            "  9.70281649 10.51545226 10.2228606   8.78051074  9.4969946   8.09705515\n",
            " 10.95651691  9.32747973 10.23123123  7.7163686  10.30952641  8.67328191\n",
            "  9.0958027  11.02947881  8.54111078 10.76247192  9.74438496 10.15123659\n",
            "  8.93557836  9.97527737  9.4288104   9.77755666 10.79587586  9.71399443\n",
            "  8.96030458  8.72124655 10.43682682  9.83678105 10.75137396  8.44175016\n",
            " 10.0244897   8.83417592 10.29034142  8.1951067  10.22138043  9.59503959\n",
            "  7.62404954 11.07770942 12.01086167  9.35358464 10.60146991 10.05402159\n",
            "  9.96761081 10.64018334  9.26862048 10.85168388 10.50530599 11.86453673\n",
            "  8.90045021 10.73992055  8.92995746  9.39034154 10.05488415 10.89637823\n",
            " 11.33322009  8.47388146 11.14581018  8.03518674  9.44243636  9.24089086\n",
            "  9.83304842  7.99929552  9.46525581  9.84872175 11.66351353 11.75489835\n",
            " 11.05648602  8.42743104  8.82473543  8.79332965 11.24191414 10.32262861\n",
            "  8.7825854  11.87931945 11.55068339 11.31687555 10.26385398 10.80110398\n",
            "  9.64736591  9.98191832  9.00298831 11.50492083 10.38415907  9.52087808\n",
            "  9.47261691 11.64468333  9.38110252 11.02186264 10.17368439 10.15814519\n",
            "  9.36188894  9.19172582  9.91194205 13.22962488  9.86896568 10.22233631\n",
            " 10.57034302  8.52014486 10.10026045 10.0215385  10.81048928  8.58601289\n",
            "  9.21870461 10.38770995 11.64345257 11.74523695 11.41904409  9.38832264\n",
            " 10.65999207  9.65347301  9.56514731 10.79516797  9.95776867 11.20129678\n",
            "  8.92914324 10.13000948  7.99684932 11.43584527  7.16103112 11.83237193\n",
            "  8.6796298  10.49190614 10.38783083  9.77052285 11.04322995 11.57402612\n",
            "  9.24744557 11.5054657   9.26235751  8.68597348  9.1987925  11.56861093\n",
            "  8.87451912  8.95673308  8.95179655 11.49078856 10.5083546   8.93572048\n",
            " 10.91956675 10.45859728  9.9705594   9.38768725 10.43988429  9.88644436\n",
            "  9.97036511  9.43954166 11.08796581  8.90683272  9.35634375 10.88404022\n",
            " 10.4093195  11.22447769 10.4326592   9.30173489  8.42358681  9.50581505\n",
            " 10.14330374  9.90496938 10.66543629  8.87680649  8.42920696  9.0575265\n",
            "  9.6124179   9.91336006  9.7298466   9.03181576 10.00077526 10.49032099\n",
            "  9.36239112  8.43319549  8.78733404  9.76155613 12.65043089  9.16546301\n",
            "  9.48787983  9.95495602  9.79458613  8.89405836  9.70228243 10.46499617\n",
            "  8.70074757  8.58217747 11.76101334  9.04898903  9.42390687 10.21008769\n",
            "  9.22475719  9.57738657 10.3895374   9.88814056  9.35621504  9.82481764\n",
            " 10.50420135  9.66635872  9.57646756 10.27569456 10.64411729 10.14199804\n",
            "  9.12223023 10.70679484 10.52151786 11.61482206  9.21045952 10.34329356\n",
            " 10.42476963 10.63959809  7.91928868  9.59073483  9.97871154 10.22231142\n",
            "  9.27656008 10.39209223  7.99242293 11.46204751  8.29514576  9.2421807\n",
            "  8.557969    9.51314735 10.46559925 10.63361864  8.70446613 10.84876997\n",
            " 11.03127044  9.55248643 10.23830187  9.38258115  8.62048756 10.35317156\n",
            " 10.8132503   8.91182717 10.39428388 10.13654893 10.09638483 10.08483444\n",
            " 10.07542094  9.46981317 10.21352791 10.59712194 10.41386224  8.16509021\n",
            "  9.09999118 10.08264545 10.58523504  7.39845042  9.82339829  9.32939292\n",
            " 10.05574607 11.28737431 12.49284392  8.01195842 10.14645884  9.16672984\n",
            " 11.08605762  8.60704001 10.02853579 11.24072253 10.18177511 10.35444481\n",
            "  9.80419847  8.7535555  10.61496049 11.19549464 10.09624085  8.8502702\n",
            "  9.85372202  9.11946776 10.23531426 10.74497384  8.83766069  9.16922273\n",
            " 10.46243409 11.70917172 10.37126588  9.06379174 11.5018629  11.09698775\n",
            " 12.35739995 11.1105231   6.49853983 10.7174547  10.26185731 10.7056351\n",
            "  7.95504454 10.58458549  8.78450972 10.49596968 10.62062914 10.06066053\n",
            "  9.65523842  9.5156501   8.44464537  8.91501324 11.53123907 10.11721223\n",
            " 12.40099879  8.35497382 10.48615214 10.76481241  9.60628006  9.42226196\n",
            " 12.30289283  9.8680732   9.49928783  8.73215256 10.73212519 10.22275362\n",
            "  9.73883755  9.20745146 11.70502453 11.7045766  10.1517923  11.4775517\n",
            " 11.05159909 11.28653551 11.289457   10.5271191   7.36756028  9.91199551\n",
            " 12.5876193  10.06373731 10.8899119  10.46724877 10.0293186   9.89150463\n",
            "  9.0830767  10.18640882 10.38030489  9.27404371 10.59191941 11.66992724\n",
            " 10.04752182  8.86552119 11.00656667 10.32876386 10.76163544  9.53942938\n",
            " 11.18398335  9.3664308   9.999237   10.12784295 11.05633449 10.14297219\n",
            " 10.35621429  9.576315    9.79858876 10.12620448 10.83497741  9.77408869\n",
            "  9.40539263  8.59459559 10.83473788  9.40988822 11.84552107 10.31744062\n",
            " 11.66728092  9.89306981  9.41908713 11.24467115 13.57035953  8.08806618\n",
            " 11.1454671  10.20568031  9.96861745 10.22224188  9.43021798 10.55020097\n",
            "  9.85720442  9.56758935  9.56784973 12.29539314 11.33847823  9.60475326\n",
            " 12.27012869  9.91096752 10.54903772 10.00931038 11.09248595 10.8314564\n",
            " 12.49196265  9.5588068  10.85354743  8.5439335  11.86882269  8.06969877\n",
            " 10.98932291  9.74125869  8.1608913   9.59758401 10.70498726  9.96193779\n",
            "  8.68734947 11.96892967 11.90294304 10.43535046 11.74283999  8.83214916\n",
            " 12.38614891  8.9151283   9.86604677  9.70558095  9.58613065  9.9484816\n",
            " 11.59256579 10.44765494 10.9583761  10.11839711 10.33318629 10.67640222\n",
            "  8.90606748  9.91548633 10.29661933 10.26874125 11.01906942 10.16295863\n",
            " 11.15305345  9.23250485 11.30008953  9.4209678  10.72153369  9.36056024\n",
            " 10.04620545  9.05277163  9.71545622 11.32924147 11.41977546  9.64597841\n",
            "  9.94767665  9.77696881 10.62991713 10.94372626 10.15527866  9.84002729\n",
            "  9.43335643  8.01202606  9.83880535 11.38746592 11.85440526  9.83913934\n",
            "  8.60875396 10.96741692  9.88756659  9.67656985 11.33588885 11.36874422\n",
            "  8.41153175 10.72179401  8.46982624  9.01285531 10.03690225 10.24515148\n",
            " 11.50047238 12.45232557  9.6472844  11.12127738 10.47364626 10.71131146\n",
            " 11.32615474 11.95865732 10.36661707 11.1684489  10.56963302  9.30527391\n",
            "  9.65306704  8.9749281  10.72478008 10.32585007  9.53158533  9.74690579\n",
            "  6.08236563 11.34260772 11.33599004 10.40735406 10.26287259 10.73186116\n",
            " 11.3438102  10.02893531  9.99352844  9.58138069 10.79143616  8.82068075\n",
            "  9.47647999 11.54088194  8.86689572  8.97588924 10.45081964  8.81020478\n",
            " 10.27258207 10.07994552  8.44124708 10.08610503  9.06480242 10.96383322\n",
            " 11.45117388 11.22292435  9.32978937  9.97715863 10.96728529  9.14659146\n",
            "  9.89575461  8.46533071 10.90710621  8.264948    8.86572712 12.25395209\n",
            "  8.95281881  9.995669   10.68116404 11.00709401  9.11319301 11.80572919\n",
            " 10.95953739  8.86228268 10.07240797  9.6546868  10.85939327 10.24464707\n",
            " 10.36569487 10.4257119  10.73792661 10.19041995 11.05049795 10.53580149\n",
            "  9.5312306   9.66671787 10.39627073  9.39425157 10.48104786  9.47758911\n",
            "  9.02971171  8.86662498  9.74906211  8.52059133 10.5173129   9.65340622\n",
            "  8.74726609 10.71707283  8.82465988 10.33493763  9.50601928  8.88835598\n",
            " 10.55232534 11.6054781  11.65524481 11.14980466  9.32253467 11.53654682\n",
            " 10.09509984  8.96074623 10.97002972 10.77769311  9.4091856  11.17399149\n",
            " 10.33142867  9.79896609  7.76836166 10.6973044   9.13322052 10.77056411\n",
            "  9.88545317 10.45064864  9.58759097  9.48862314 10.81367931 10.5935681\n",
            " 11.65158874  9.22238513 10.70690176 10.78092057 10.66878241  8.73498843\n",
            " 11.05141597  7.7466294   8.35413607  8.95529644 10.53524595  9.72044812\n",
            "  9.49122552  9.18040533 10.3468712   9.65130456 10.67219345  8.90660989\n",
            " 11.46668323  9.16303651 10.45918252  9.15097859 10.59846352  8.89399698\n",
            "  9.85026693  9.67996328  8.98521414  9.34350644 10.66068351  9.56342566\n",
            " 12.15467651 10.66803256 10.84622223 10.32937348 11.05677807  9.36961926\n",
            " 10.52445074 10.57880867 11.0270153  10.11205621 10.18365929 10.06237184\n",
            " 10.46386851 10.36006145  9.87429714 10.58559376 10.490848    9.59496122\n",
            "  9.41795465 10.65596543 10.27272016 11.03875245  9.05817296  9.03100792\n",
            " 10.17436025 11.89297458 10.10311035 11.34951321  8.59707483 10.06036891\n",
            "  9.83251459  8.8059314   9.12485475  9.17965338 10.3468308   9.6969727\n",
            "  9.4834569  10.13334877 11.74179924  8.87118858  9.80208093 10.34940113\n",
            "  9.58429499  9.31079643  9.61073085 11.02581956 10.58968613  9.23049778\n",
            " 10.19895094  8.72537686 11.03952893 11.09345666 10.16365748  9.85792738\n",
            "  8.97334474 12.1710738   9.34288068 10.73158597 11.0436841  10.78912034\n",
            "  9.82232578  9.1482724   9.8704982  10.51974905 10.33609381  8.66109438\n",
            " 10.97164807 10.82144722  9.78247638  8.93795317  9.99416951 10.42082199\n",
            "  9.94273547 11.22158275  8.70935681  9.95675453 10.2165039  11.01934185\n",
            "  8.94901224  8.91917374 10.25909097 11.17335447]\n"
          ]
        }
      ],
      "source": [
        "# your code here\n",
        "mean = 10\n",
        "standard_deviation = 1\n",
        "count = 1000\n",
        "\n",
        "# rvs() = random variates\n",
        "random_numbers_1000_std1 = stats.norm.rvs(loc=mean, scale=standard_deviation, size=count)\n",
        "\n",
        "print(random_numbers_1000_std1)"
      ]
    },
    {
      "cell_type": "code",
      "execution_count": 18,
      "metadata": {
        "colab": {
          "base_uri": "https://localhost:8080/"
        },
        "collapsed": true,
        "id": "DxULUvVplyU6",
        "outputId": "6685291e-5b46-4284-96a0-3f09ad4166ca"
      },
      "outputs": [
        {
          "output_type": "stream",
          "name": "stdout",
          "text": [
            "[ 1.40090771e+02 -2.64642349e+01  1.66312647e+00  8.97094900e+01\n",
            " -1.58934575e+01  3.31926862e+01  1.02697358e+02  1.13600988e+01\n",
            " -3.81904595e+01 -4.69615541e+01  6.83094211e+01  1.01773420e+01\n",
            "  2.95990269e+01 -5.50198350e+01  5.18535617e+00  3.78461471e+01\n",
            " -5.41212868e+01  1.99775390e+01 -1.94762527e+01 -1.70901222e+01\n",
            "  5.03416315e+00 -2.76971677e+01  9.07092378e+01  4.07714346e+00\n",
            " -3.88199655e+01  2.17324177e+01  1.51678157e+01  6.52771074e+01\n",
            " -4.55155272e+01  1.10100801e+02 -1.92229934e+01  5.70942944e+01\n",
            " -1.30213811e+01 -1.98952101e+01  2.22731307e+01 -6.84191533e+01\n",
            " -5.75203035e+01  7.55092608e-01 -3.03921587e+01  1.16597322e+02\n",
            " -7.68924006e+00  1.02152449e+02  4.35943182e-01 -1.06721224e+01\n",
            "  2.11490675e+01  9.54069127e+00  5.98061892e+01 -6.76890611e+01\n",
            "  2.48550297e+01  4.72800098e+01  1.92402788e+01  8.51077482e+01\n",
            "  6.68669558e+01  4.46743358e+01  2.99622791e+01  2.58097342e+01\n",
            "  1.14224960e+01  1.88060461e+01  8.99483140e+01  5.70036248e+01\n",
            " -1.32115294e+00 -1.84881899e+01 -3.17423870e+01  1.07840862e+02\n",
            " -3.96379525e+01  3.78069670e+01 -3.30989757e+01  3.93053534e+01\n",
            " -1.20242282e+01  1.49404654e+00  4.25096941e+01  7.12509204e+00\n",
            " -1.71838937e+01  6.55749818e+01  8.00420196e+00 -1.34651460e+01\n",
            " -1.13317319e+02 -3.42995565e+01  1.44576186e+01 -3.56309610e+01\n",
            " -3.57200819e+01 -3.44941095e+01  6.71061875e+01  7.82689676e+01\n",
            "  1.42277150e+02  6.48204134e+01 -5.13482249e+01 -6.03855224e+00\n",
            " -1.92131070e+01 -6.58455688e+01  4.83702230e+00  6.49221106e+01\n",
            "  5.60349241e+01  7.84808647e+01  1.67292986e+01  4.55283347e+00\n",
            " -4.72203669e+01 -3.69812159e+01 -2.90081297e+01 -1.54960625e+01\n",
            "  5.22599128e+00  3.88677845e+00 -9.72243187e+00  1.34060406e+01\n",
            " -1.07114932e+01 -2.33120295e+01  3.30103921e+01  4.10872224e+01\n",
            "  4.14876077e+00 -7.02062614e+01 -2.91425285e+01  6.86568192e+01\n",
            " -5.09395311e+01 -2.93989813e+01  2.54669160e+01 -6.79578812e+01\n",
            "  5.17885942e+00  2.38846670e+01  1.63584414e+02 -4.74796465e+01\n",
            " -1.09238656e+02  4.11534048e+01 -1.74415531e+00 -3.69827632e+01\n",
            "  2.27893678e+01 -4.59668544e+01  1.97822689e+01  8.98615201e+01\n",
            "  2.50267556e+01  1.34515105e+01  7.43461935e+01  8.46565753e+00\n",
            " -5.47973677e+01  5.25024578e+01 -3.36015493e+01 -4.20383154e+01\n",
            "  6.49231186e+01 -1.29580207e+01 -2.03819870e+00 -3.40438151e+00\n",
            "  3.78712875e-01  5.83882648e+01  4.21988296e+01  5.52455204e+01\n",
            "  1.98365822e+01  4.11388704e+01  1.16205754e+01  6.88168800e+01\n",
            "  8.64909435e+01  1.94100504e+01 -2.35048864e+01  1.03020448e+02\n",
            "  9.60406314e+01 -6.35597982e-01 -2.12167699e+01  2.01007801e+01\n",
            "  1.98500585e+01  2.23838954e+01 -2.91615647e+01  2.10176338e+01\n",
            " -3.75798625e+01  6.08242115e+00 -1.55811253e+01  2.02639368e+01\n",
            "  7.73358334e-01 -2.61446139e+01  3.07798030e+01  1.34863604e+02\n",
            "  4.88916574e+01  3.21800966e+00 -4.98345577e+01  1.52822378e+01\n",
            "  1.86881745e+01  2.99067848e+01  3.64304646e+01  3.47111022e+01\n",
            "  4.23229657e+01 -1.10022842e+01  2.89958573e+01 -1.17633830e+01\n",
            "  9.15954143e+01  1.22885472e+01  1.79768020e+01 -3.66047774e+00\n",
            "  2.88535276e+01  3.27715977e+01  1.24217204e+01  2.04718308e+01\n",
            "  4.71389360e+01 -6.46832316e+01 -3.45904102e+01  1.81020606e+01\n",
            "  4.98591521e+01 -1.54894176e+01 -1.39791586e+01  1.77489011e+01\n",
            " -2.03739600e+01  6.05051207e+01 -2.87033838e+01  5.62115818e+01\n",
            "  4.75074141e+01  2.69167932e+01  3.25321020e+01  8.05385818e+01\n",
            "  9.26407381e+01  1.27690613e+01  1.69925773e+02  8.46897860e+00\n",
            "  2.93718089e+01 -7.15116485e+00  7.70198514e+01  5.80897818e+01\n",
            "  2.50220308e+01 -8.58942424e-01 -3.10297967e+00 -3.64321093e+01\n",
            " -1.04993110e+01 -3.20075106e+01  1.04777754e+02  1.02985770e+01\n",
            " -2.82713344e+01  8.47098993e+01  9.46133045e+00 -1.45758909e-01\n",
            "  3.70216920e+01  2.88750957e+01 -2.72992532e+01  3.71174619e+01\n",
            "  5.68307750e+01  5.70863188e+01 -2.68996151e+01  5.88530661e+01\n",
            " -3.38318955e+01  1.79478449e+01  7.42615189e+01  5.08190840e+01\n",
            " -9.18080738e+01  3.97314600e+01 -2.72235169e+01 -1.86216677e+01\n",
            "  4.11152166e+01 -8.31963493e+00  9.90994740e+01  1.17499210e+01\n",
            "  1.75691182e+01 -1.29519593e+01  2.29275181e+01 -8.90746349e+01\n",
            "  4.30869404e+01  3.01910396e+01  3.27235918e+01  2.28287354e+01\n",
            "  1.45535987e+01 -6.13088837e+00 -3.79032703e+01  6.37034810e+01\n",
            " -1.08069653e+02 -5.95531803e+01  6.89879580e+01  5.05405720e+01\n",
            " -2.27989678e+01 -5.08645068e+01  3.12299630e+01  1.10024658e+02\n",
            " -5.89336701e+01  5.09157350e+01 -2.02431094e+01 -2.58285048e+01\n",
            " -3.00021128e+01  1.09230518e+02  5.80601891e+01  6.98052827e+01\n",
            "  6.10925638e+01  5.14937179e+00 -5.02170105e+00  1.85097394e+01\n",
            " -5.40888263e+00  4.08207714e+01  7.06948217e+00  4.64391414e+01\n",
            " -2.14513345e+01  5.74655400e+01 -3.19413664e+01 -2.89170307e+01\n",
            " -1.93863095e-01  2.21248110e+01 -3.47691842e+01  5.39679170e+01\n",
            "  6.56807046e+01  8.57056879e+01 -1.27585852e+01  2.01568966e+01\n",
            "  1.09965370e+01 -3.07609581e+00  6.60176566e+00  7.99603863e+01\n",
            " -4.84204515e+01  5.17217664e+01 -8.81891597e+01 -1.95971197e+00\n",
            "  1.26334093e+00  3.65566841e+00  7.05590579e+01  6.18273432e+01\n",
            "  1.69671001e+01  1.54157243e+01  3.17938082e+01 -3.40939955e+01\n",
            " -4.43321093e+01  5.87523162e+01  1.41688160e+01  1.59388827e+02\n",
            "  2.84413524e+01  4.53471493e+01  6.37094206e+01 -7.60809431e+01\n",
            "  1.14884390e-02  1.97914873e+01  4.58307456e+01 -5.03893177e+00\n",
            " -4.42894624e+00  2.93067940e+01  8.23011242e+01 -1.48802855e+01\n",
            " -1.03455066e+02 -1.97090252e+01 -2.02045236e+01 -4.13978251e+01\n",
            "  9.76027141e+01  4.58978986e+01 -1.03151487e+02  2.92818019e+01\n",
            "  5.36634848e+01  1.58712504e+02  1.78367306e+01  4.75976445e+01\n",
            "  5.96351985e+00  5.04482378e+01  4.30794606e+01 -7.49426592e+00\n",
            "  1.84226210e+01  1.02813675e+00  1.65651280e+01 -4.50132740e+00\n",
            "  7.45825127e+01  1.12669121e+01  3.41275999e+01 -6.89926918e+01\n",
            "  3.17984187e+01  1.05014694e+02 -5.01293201e+01  3.75081462e+01\n",
            " -5.61346598e+00 -3.45851833e+00 -1.00510792e+01  8.89716380e-01\n",
            "  7.07386497e+01 -1.01381465e+01  1.09306285e+02  3.36837107e+01\n",
            "  1.11102124e-01  1.05760015e+01 -2.12919837e+00  1.89667696e+01\n",
            " -7.07148750e+01  3.37393136e+01  2.62892671e+01 -2.17097065e+01\n",
            " -3.04678714e-01 -4.19512598e+01  8.43505099e+01  2.90616088e+01\n",
            "  9.67534330e+01 -1.05667586e+00  4.82218289e+01  5.62164028e+01\n",
            "  6.53152223e+01  4.31289764e+00 -5.06282574e+01  2.69953419e+00\n",
            "  7.13458429e+00  2.60262200e+01 -7.05943431e+01  7.55259643e+01\n",
            "  9.87405985e+01  7.40229404e+01 -1.25690794e+01  3.45992845e+01\n",
            " -2.04880610e+01  8.52932552e+01 -3.21569612e+01  5.61341665e+00\n",
            "  1.43939461e+01 -3.35266416e+01 -1.99650608e+01 -2.09647578e+01\n",
            "  2.05871576e+01 -3.28530438e+00 -1.02174253e+01 -1.72890886e+01\n",
            "  3.11413316e+01  5.84090576e+01  3.80880152e+01 -2.63698385e+01\n",
            " -8.13304094e+01  2.29739056e+01 -9.96433865e-01 -1.99915090e+01\n",
            "  2.52491987e+01 -6.57646550e+01 -3.10675135e+01 -6.92048738e+01\n",
            "  4.45194143e+00  1.58646854e+01  1.80813545e+01  9.22614243e+01\n",
            "  9.20282452e+01  1.33478715e+00 -2.10835639e+01 -3.35968796e+00\n",
            "  2.30511720e+01  9.16142149e+00  4.36100316e+01 -1.40362616e+01\n",
            " -8.19664989e-01  5.38080262e+01  5.22828773e+01 -1.54564427e+00\n",
            " -1.81409075e+01 -7.24800028e+01 -6.48948887e+01 -4.12608699e+01\n",
            "  2.38095765e+01 -8.90063851e+00  1.55602580e+01 -1.13424571e+02\n",
            " -5.99051926e+01  7.96325018e+01  4.76269565e+00  1.98726146e+01\n",
            " -2.60598022e+01  2.82648484e+01  1.37369384e+00  5.99269940e+00\n",
            "  4.10256288e+01  1.20126350e+01  5.68781506e+00 -1.10914211e+02\n",
            " -2.02226547e+01  1.36430184e+01 -3.85378804e+01  7.43048882e+01\n",
            " -1.69020786e+01  1.37160706e+02  4.61410875e+01 -1.94521763e+01\n",
            " -5.97706379e+01  1.07408139e+02  5.61865069e+01 -2.33024895e+01\n",
            "  3.61978243e+00 -2.36635398e+01  1.09599408e+02 -4.72623676e+01\n",
            "  6.00757797e+01 -2.52573489e+01  2.14018259e+01 -5.03921673e+01\n",
            "  2.59209214e+01 -5.86944860e+01 -9.33764586e+01  6.66282798e+01\n",
            "  3.22928925e+00  1.92499433e+02  3.80864771e+00  7.13213884e+00\n",
            " -1.35486329e+01 -1.10812048e+01 -2.82504804e+01  3.02280326e+00\n",
            "  5.18975541e+01  8.36343938e+01 -3.86362784e+01 -3.44523106e+01\n",
            "  3.89893167e+01  1.18219846e+02 -1.57443267e+01  2.06236474e+01\n",
            "  2.22019582e+00 -1.50935714e+01  3.12084045e+01  1.06058277e+02\n",
            " -9.84273882e+00  1.65743488e+01 -3.82608022e+01 -3.46932323e+01\n",
            "  5.41980601e+01 -1.86550170e+01  1.04727744e+02  2.89222475e+00\n",
            "  8.08280129e+01  4.63110167e+01 -4.09956333e+01  9.75283727e+01\n",
            " -3.51543452e+01 -4.87341352e+01 -4.32612243e+01  9.23759175e+01\n",
            " -8.09015299e+00 -6.01793881e+01  2.51014781e+01  1.73791437e+00\n",
            " -1.30929027e+02  5.62144918e+01 -1.24121239e+01  4.42721955e+01\n",
            "  4.19355643e+01  4.45979636e+00  2.82597642e+00  5.26943997e+01\n",
            "  3.13222869e+01 -7.20380480e+01  1.49735394e+02  5.36221906e+01\n",
            "  2.78909726e+01 -2.33555038e+01  4.32300462e+01  6.61066641e+01\n",
            "  4.27650874e+00 -3.66972218e+01 -4.93207564e+00 -4.38009618e+01\n",
            " -9.58128366e+00 -1.08943308e+01  3.28963870e+01 -3.92307089e+01\n",
            "  8.10022937e+01  4.81719327e+00  3.79465023e+01 -3.51921330e+00\n",
            "  8.98861875e+01 -4.04687400e+01 -5.05343367e+00 -8.10810353e+00\n",
            "  2.51731553e+01  4.53052264e+00 -1.04653094e+02  8.71174545e+01\n",
            "  5.89753059e+00  3.82355901e+00 -1.37574446e+02  2.30117151e+01\n",
            " -1.22119335e+01  6.20730031e+01 -1.21948172e+01 -9.14081582e+00\n",
            "  7.63108327e+01 -7.42619665e+01  8.09225873e+00  5.13954776e+01\n",
            " -5.48808966e+00 -2.24119699e+01  9.02017137e+01 -1.71198513e+01\n",
            "  3.40994861e+00  2.71982311e+01 -8.03255860e-01  2.61238151e+01\n",
            "  5.29031779e+01 -3.95240877e+01  3.72508597e+01 -1.26855874e+01\n",
            " -4.59670667e+01 -4.17787354e+01 -3.58773824e+01 -1.63469749e+01\n",
            " -1.01540454e+02  2.25639201e+01  5.44958565e+01  1.88465603e+00\n",
            "  2.87009597e+01  9.61217039e+00  1.20497626e+02 -9.43656404e+01\n",
            " -1.70149197e+01  9.65019599e+00  5.76004594e+01 -3.79923676e+01\n",
            "  5.86110558e+01  5.60459188e+01 -3.32199790e+01  3.74914251e+01\n",
            " -7.49523822e+01 -8.62453536e+01 -1.35098192e-01  6.13500906e+01\n",
            "  5.27129509e+01  1.33829055e+01 -8.09970487e+00  4.73312762e+01\n",
            "  6.91553884e+01  6.09441559e+00  5.98522636e+01  4.93535832e+01\n",
            " -9.79750511e+00 -9.69409214e+00 -3.15441625e+01  1.71359036e+00\n",
            "  2.54609036e+01  1.54076620e+02  8.11497612e+01  3.29035055e+01\n",
            "  3.60249292e+01  6.57318820e+01  5.81359639e+01  5.34518151e+01\n",
            " -4.08339911e+01 -7.68626996e+01  7.59898487e+01 -4.43671945e+01\n",
            "  6.45853296e+01 -3.19799597e+01 -3.48487615e+01  7.74639946e+01\n",
            "  5.96394803e+01  4.04446060e+01  3.03558636e+01 -8.62826900e+00\n",
            "  4.66281989e+01 -9.35039064e+01  6.00413370e+01  3.53665820e+01\n",
            " -1.06143066e+02  1.05334538e+02  1.30669002e+02 -1.01747806e+01\n",
            "  5.13677058e+00 -2.46383611e+00 -5.01458204e+01  3.18008526e+00\n",
            " -1.47951773e+01 -2.91405319e+01  1.48418649e+01  3.18528526e+01\n",
            "  8.86738473e+01  1.59961910e+00  2.07520993e+01  5.10248757e+01\n",
            "  2.19675613e+01  5.85641276e+01  2.27115330e+01  4.49457073e+01\n",
            "  4.62253981e+01 -7.63444204e+01 -3.13990903e+01 -4.39654424e+00\n",
            "  3.31967782e+01 -8.39377168e+01 -1.15688734e+02  6.50884727e+01\n",
            "  4.94960917e+01  6.37990746e+01 -2.75897851e+01  7.48607663e+00\n",
            "  4.99168603e+01 -5.93674911e+01 -4.62315230e+00 -6.98426370e+01\n",
            "  9.97906532e+01 -7.20512228e+01  6.35484510e+01 -4.35511957e+01\n",
            " -3.85701118e+01 -1.93445920e+01  8.49743030e+01  1.20067890e+01\n",
            " -5.52856291e+01  7.32436170e+00 -2.48543289e+00  5.26858939e+01\n",
            " -2.39378586e+01 -9.42916116e+01 -6.74827611e+01  4.39120486e+01\n",
            " -6.93025326e+01  1.01597917e+02  1.10805587e+01  2.25961591e+01\n",
            "  3.19941338e+01 -6.74669589e+01 -7.94274396e+00  1.37035212e+00\n",
            " -2.88377612e+01  6.03833593e+01 -3.60477584e-01  6.05334410e+01\n",
            "  3.03628279e+01  2.33799306e+01 -1.47379473e+01  2.55313857e+00\n",
            " -5.11037578e+00 -5.05104323e+01  9.77544187e+01  2.20329101e+01\n",
            " -3.39539677e+01 -6.22862670e+00  4.78256607e+01  3.70846609e+01\n",
            " -7.90152793e+01 -4.70570679e+01 -2.27424837e+01  6.14232923e+01\n",
            "  1.48557616e+01 -9.20628427e+01 -2.18325742e+01  2.84807297e+01\n",
            " -2.08683315e+01  5.45999474e+01  6.66592142e+01 -2.66676585e+00\n",
            " -4.69226965e+00  1.93391378e+00 -3.27530919e+01 -5.13625624e+00\n",
            "  7.61315658e+01  5.87866074e+01  1.37588407e+00  2.88630094e+01\n",
            " -1.07214038e+01 -4.50914090e+01  3.69129079e+01 -1.31494790e+01\n",
            "  1.41825274e+01  4.78226750e+01  6.15350479e+01  1.91822292e+01\n",
            "  4.19155868e+01 -4.80351966e+01  3.77282435e+01  3.51548300e+00\n",
            " -1.85701579e+01  2.77986848e+01  6.58112328e+01 -4.62977634e+01\n",
            " -1.18757175e+01 -1.11425381e+02  7.27778163e+01 -7.72501864e+01\n",
            " -4.43591628e+01  1.73509719e+01  5.96528043e+01 -8.31639119e+00\n",
            "  8.18485551e+00  3.27754470e+01  3.03535018e+01  1.93281053e+01\n",
            " -1.39297159e+01  3.40332645e+00 -7.98648393e+01 -1.57960175e+01\n",
            " -2.49589078e+01 -1.23026923e+02 -7.52755141e+01 -4.45672096e+01\n",
            " -2.27860461e+01  8.20301851e+01  2.51755908e+01  4.96028519e+01\n",
            " -2.81539678e+01  2.86616676e+01 -7.80394359e+00  1.52506739e+01\n",
            "  5.66339806e+01  7.99515979e+01 -5.64044280e+01 -8.21373139e+01\n",
            " -5.16278518e+01  5.25990172e+01  7.48722412e+01 -5.06769638e+00\n",
            "  1.81935506e+01 -3.50663548e+01 -2.28702101e+01 -2.93732392e+01\n",
            " -8.45512059e+01 -7.40212775e+00  2.53261026e+01 -1.64932979e+02\n",
            "  5.07247009e+01  3.68856733e+01 -9.28846513e+00  4.96253344e+01\n",
            "  1.12338404e+01 -3.35783809e+01  6.61113934e+01  1.99285116e+00\n",
            "  4.15969000e+01  1.61357928e+01  3.52641517e+01 -1.91255616e+01\n",
            " -1.76431701e+01 -1.15404942e+02 -6.33758618e+01  1.75018427e+01\n",
            "  4.77057207e+01  3.00791035e+01  7.69730166e+01 -2.21776957e+01\n",
            " -7.41784636e+01 -4.83627219e+01 -1.90138144e+01  7.85647912e+01\n",
            "  3.50522813e+00  1.13398014e+02 -6.06582899e+01 -2.08458891e+01\n",
            " -4.80580491e+01 -1.57189545e+00 -6.56230385e+01  3.52167861e+01\n",
            " -2.34944686e+01  2.75683879e+01  2.21647999e+00  5.74602110e+01\n",
            "  5.18270698e+01  9.38050878e+01 -2.13515897e+01 -4.01417978e+01\n",
            "  2.95788570e+01  1.14322423e+02 -8.03025559e+01 -6.10291727e+00\n",
            " -4.56171272e+01 -2.62195149e+01  7.00552199e+01  4.35632285e+01\n",
            "  1.00773030e+00 -2.60968938e+01  5.84127676e+01  2.43899429e+01\n",
            " -1.69140729e+01 -8.51614407e+00  6.08229821e+00  1.72155315e+01\n",
            "  8.46466022e+01 -1.34537517e+01 -5.75365273e+00 -9.39425461e+01\n",
            "  3.79366939e+01  1.40330560e+01  3.64495455e+01 -2.00984166e+01\n",
            " -7.20762058e+01  2.95115487e+01 -5.35853946e+00 -6.86942683e+01\n",
            "  2.32918464e+01  6.08373813e+01  7.75403736e+00 -4.55635806e+01\n",
            "  4.48951347e+00 -7.58500533e+01 -5.99378829e+01  1.55024587e+02\n",
            "  1.05353312e+02 -3.17989407e+01  1.05969945e+02  9.08719352e+00\n",
            "  3.17043369e+01  1.13637649e+02 -1.09352790e+01  5.36534353e+01\n",
            " -1.27831628e+00 -3.64942552e+01  6.39843590e+01  1.10602777e+02\n",
            "  2.01119941e+01  2.12738747e+01  6.93827588e+01  3.23239431e+01\n",
            "  8.68786087e+01  8.16306683e+01 -4.67506232e+01 -7.05934792e+01\n",
            "  7.20428970e+01 -2.02647227e+01  5.23909036e+01 -2.42056353e+01\n",
            "  5.01745118e+01 -4.97214173e+01 -4.49208343e+01  9.19951324e+01\n",
            "  5.33529796e+01 -2.68875685e+01  3.77982814e+01  5.01913307e+00\n",
            "  6.24359174e+01  3.59309729e+01  3.06572204e+01 -1.77057979e+01\n",
            " -2.89427586e+01 -1.69813840e+01 -1.24854650e+00  4.87550667e+01\n",
            "  8.66804149e+01  1.66897663e+01 -7.43105678e+01  8.53657411e+01\n",
            "  7.67245602e+00  4.66762064e+01  2.31212615e+01 -1.39374091e+01\n",
            "  3.40386215e+01 -8.51135980e+01  4.50026029e+01  3.08390108e+00\n",
            " -5.10774439e+00 -4.60893183e+01 -3.31879909e+01 -5.58757461e+01\n",
            "  1.45946769e+01  2.34026830e+01  6.02988093e+01  5.15336942e+01\n",
            " -3.95519980e+01  2.57368586e+01 -4.88972929e+00  5.26905220e+01\n",
            "  4.85805619e+01 -4.20292616e+01  2.36165164e+01 -5.00444617e+01\n",
            " -1.79514017e+01  4.52560470e+01  1.23279487e+02 -1.68886026e+01\n",
            " -6.88702256e+00  3.01284128e+01 -3.44605535e+01 -2.26622079e+01\n",
            "  3.05590623e+01  2.17158961e+01  3.64281737e+01 -1.31953296e+01\n",
            " -4.14827222e+01 -5.79257726e+01 -6.18685043e+01  3.32621999e+00\n",
            "  5.82719425e+00 -1.70234160e+01  5.79396157e+01  8.36669297e+01\n",
            " -1.64203911e+01 -7.62777015e+01  1.19990716e+01 -4.75874939e+01\n",
            "  6.37572223e+01  4.51572270e+01 -5.60907984e+01  7.20416795e+01\n",
            "  7.24762205e+01  2.84255657e+00  3.28618826e+01  1.53459332e+02\n",
            "  4.38117692e+01  6.22049280e+01 -1.35532145e-01  1.41476913e+00\n",
            "  2.10138373e+01 -9.79946868e+00 -2.01633714e+01 -5.60447816e+01\n",
            "  1.86375948e+01 -2.63654687e+01  1.12486819e+02  3.68485467e+01\n",
            "  1.77806987e+01  1.10367584e+01  2.21149450e+01  2.52961100e+01\n",
            " -5.91156483e-01  9.16811224e-01 -2.75729903e+01  2.32433302e+01\n",
            "  5.50410793e+01  6.32291169e+01 -1.81947490e+01  3.27026802e+01\n",
            "  1.31923746e+01  4.33547907e+01  1.13462097e+01  6.22556008e+01\n",
            "  5.52445845e+01 -8.39247997e+01 -2.46728012e+01  6.53641850e+00\n",
            "  1.29322408e+02  2.91798149e+01  6.89053828e+01 -3.66572847e+01]\n"
          ]
        }
      ],
      "source": [
        "# your code here\n",
        "mean = 10\n",
        "standard_deviation = 50\n",
        "count = 1000\n",
        "\n",
        "# rvs() = random variates\n",
        "random_numbers_1000_std50 = stats.norm.rvs(loc=mean, scale=standard_deviation, size=count)\n",
        "\n",
        "print(random_numbers_1000_std50)"
      ]
    },
    {
      "cell_type": "code",
      "execution_count": 19,
      "metadata": {
        "colab": {
          "base_uri": "https://localhost:8080/",
          "height": 472
        },
        "id": "K_dXpVLclyU6",
        "outputId": "24aa418b-6d69-4aec-b099-fec16ce22432"
      },
      "outputs": [
        {
          "output_type": "display_data",
          "data": {
            "text/plain": [
              "<Figure size 640x480 with 1 Axes>"
            ],
            "image/png": "[encoded data removed]"
          },
          "metadata": {}
        }
      ],
      "source": [
        "# your code here\n",
        "plt.hist(random_numbers_1000_std1, bins=10, edgecolor='black')\n",
        "plt.title('Normal distribution of 1000 random numbers of mean 10 and std 1')\n",
        "plt.xlabel('Values')\n",
        "plt.ylabel('Frequency')\n",
        "plt.grid(True)\n",
        "plt.show()"
      ]
    },
    {
      "cell_type": "code",
      "execution_count": 20,
      "metadata": {
        "colab": {
          "base_uri": "https://localhost:8080/",
          "height": 472
        },
        "id": "XiqQFy_mlyU6",
        "outputId": "b7ba52dc-1c08-45f2-fd24-62a3db477971"
      },
      "outputs": [
        {
          "output_type": "display_data",
          "data": {
            "text/plain": [
              "<Figure size 640x480 with 1 Axes>"
            ],
            "image/png": "[encoded data removed]"
          },
          "metadata": {}
        }
      ],
      "source": [
        "# your code here\n",
        "plt.hist(random_numbers_1000_std50, bins=10, edgecolor='black')\n",
        "plt.title('Normal distribution of 1000 random numbers of mean 10 and std 50')\n",
        "plt.xlabel('Values')\n",
        "plt.ylabel('Frequency')\n",
        "plt.grid(True)\n",
        "plt.show()"
      ]
    },
    {
      "cell_type": "markdown",
      "metadata": {
        "id": "YNTftWVolyU6"
      },
      "source": [
        "How are the two distributions different?"
      ]
    },
    {
      "cell_type": "raw",
      "metadata": {
        "vscode": {
          "languageId": "raw"
        },
        "id": "-g2cwBwXlyU7"
      },
      "source": [
        "Your answer here"
      ]
    },
    {
      "cell_type": "markdown",
      "metadata": {
        "id": "zXPJci0_lyU7"
      },
      "source": [
        "## Normal Distribution of Real Data\n",
        "\n",
        "In this challenge we are going to take a look the real data. We will use vehicles.csv file for this exercise"
      ]
    },
    {
      "cell_type": "code",
      "execution_count": 25,
      "metadata": {
        "colab": {
          "base_uri": "https://localhost:8080/",
          "height": 73
        },
        "id": "_nJhMgnalyU7",
        "outputId": "7a4c86ef-5b97-4a08-fc7e-3e8d8a876b99"
      },
      "outputs": [
        {
          "output_type": "display_data",
          "data": {
            "text/plain": [
              "<IPython.core.display.HTML object>"
            ],
            "text/html": [
              "\n",
              "     <input type=\"file\" id=\"files-cc96c92c-3877-4064-9d60-72f1444ac45c\" name=\"files[]\" multiple disabled\n",
              "        style=\"border:none\" />\n",
              "     <output id=\"result-cc96c92c-3877-4064-9d60-72f1444ac45c\">\n",
              "      Upload widget is only available when the cell has been executed in the\n",
              "      current browser session. Please rerun this cell to enable.\n",
              "      </output>\n",
              "      <script>// Copyright 2017 Google LLC\n",
              "//\n",
              "// Licensed under the Apache License, Version 2.0 (the \"License\");\n",
              "// you may not use this file except in compliance with the License.\n",
              "// You may obtain a copy of the License at\n",
              "//\n",
              "//      http://www.apache.org/licenses/LICENSE-2.0\n",
              "//\n",
              "// Unless required by applicable law or agreed to in writing, software\n",
              "// distributed under the License is distributed on an \"AS IS\" BASIS,\n",
              "// WITHOUT WARRANTIES OR CONDITIONS OF ANY KIND, either express or implied.\n",
              "// See the License for the specific language governing permissions and\n",
              "// limitations under the License.\n",
              "\n",
              "/**\n",
              " * @fileoverview Helpers for google.colab Python module.\n",
              " */\n",
              "(function(scope) {\n",
              "function span(text, styleAttributes = {}) {\n",
              "  const element = document.createElement('span');\n",
              "  element.textContent = text;\n",
              "  for (const key of Object.keys(styleAttributes)) {\n",
              "    element.style[key] = styleAttributes[key];\n",
              "  }\n",
              "  return element;\n",
              "}\n",
              "\n",
              "// Max number of bytes which will be uploaded at a time.\n",
              "const MAX_PAYLOAD_SIZE = 100 * 1024;\n",
              "\n",
              "function _uploadFiles(inputId, outputId) {\n",
              "  const steps = uploadFilesStep(inputId, outputId);\n",
              "  const outputElement = document.getElementById(outputId);\n",
              "  // Cache steps on the outputElement to make it available for the next call\n",
              "  // to uploadFilesContinue from Python.\n",
              "  outputElement.steps = steps;\n",
              "\n",
              "  return _uploadFilesContinue(outputId);\n",
              "}\n",
              "\n",
              "// This is roughly an async generator (not supported in the browser yet),\n",
              "// where there are multiple asynchronous steps and the Python side is going\n",
              "// to poll for completion of each step.\n",
              "// This uses a Promise to block the python side on completion of each step,\n",
              "// then passes the result of the previous step as the input to the next step.\n",
              "function _uploadFilesContinue(outputId) {\n",
              "  const outputElement = document.getElementById(outputId);\n",
              "  const steps = outputElement.steps;\n",
              "\n",
              "  const next = steps.next(outputElement.lastPromiseValue);\n",
              "  return Promise.resolve(next.value.promise).then((value) => {\n",
              "    // Cache the last promise value to make it available to the next\n",
              "    // step of the generator.\n",
              "    outputElement.lastPromiseValue = value;\n",
              "    return next.value.response;\n",
              "  });\n",
              "}\n",
              "\n",
              "/**\n",
              " * Generator function which is called between each async step of the upload\n",
              " * process.\n",
              " * @param {string} inputId Element ID of the input file picker element.\n",
              " * @param {string} outputId Element ID of the output display.\n",
              " * @return {!Iterable<!Object>} Iterable of next steps.\n",
              " */\n",
              "function* uploadFilesStep(inputId, outputId) {\n",
              "  const inputElement = document.getElementById(inputId);\n",
              "  inputElement.disabled = false;\n",
              "\n",
              "  const outputElement = document.getElementById(outputId);\n",
              "  outputElement.innerHTML = '';\n",
              "\n",
              "  const pickedPromise = new Promise((resolve) => {\n",
              "    inputElement.addEventListener('change', (e) => {\n",
              "      resolve(e.target.files);\n",
              "    });\n",
              "  });\n",
              "\n",
              "  const cancel = document.createElement('button');\n",
              "  inputElement.parentElement.appendChild(cancel);\n",
              "  cancel.textContent = 'Cancel upload';\n",
              "  const cancelPromise = new Promise((resolve) => {\n",
              "    cancel.onclick = () => {\n",
              "      resolve(null);\n",
              "    };\n",
              "  });\n",
              "\n",
              "  // Wait for the user to pick the files.\n",
              "  const files = yield {\n",
              "    promise: Promise.race([pickedPromise, cancelPromise]),\n",
              "    response: {\n",
              "      action: 'starting',\n",
              "    }\n",
              "  };\n",
              "\n",
              "  cancel.remove();\n",
              "\n",
              "  // Disable the input element since further picks are not allowed.\n",
              "  inputElement.disabled = true;\n",
              "\n",
              "  if (!files) {\n",
              "    return {\n",
              "      response: {\n",
              "        action: 'complete',\n",
              "      }\n",
              "    };\n",
              "  }\n",
              "\n",
              "  for (const file of files) {\n",
              "    const li = document.createElement('li');\n",
              "    li.append(span(file.name, {fontWeight: 'bold'}));\n",
              "    li.append(span(\n",
              "        `(${file.type || 'n/a'}) - ${file.size} bytes, ` +\n",
              "        `last modified: ${\n",
              "            file.lastModifiedDate ? file.lastModifiedDate.toLocaleDateString() :\n",
              "                                    'n/a'} - `));\n",
              "    const percent = span('0% done');\n",
              "    li.appendChild(percent);\n",
              "\n",
              "    outputElement.appendChild(li);\n",
              "\n",
              "    const fileDataPromise = new Promise((resolve) => {\n",
              "      const reader = new FileReader();\n",
              "      reader.onload = (e) => {\n",
              "        resolve(e.target.result);\n",
              "      };\n",
              "      reader.readAsArrayBuffer(file);\n",
              "    });\n",
              "    // Wait for the data to be ready.\n",
              "    let fileData = yield {\n",
              "      promise: fileDataPromise,\n",
              "      response: {\n",
              "        action: 'continue',\n",
              "      }\n",
              "    };\n",
              "\n",
              "    // Use a chunked sending to avoid message size limits. See b/62115660.\n",
              "    let position = 0;\n",
              "    do {\n",
              "      const length = Math.min(fileData.byteLength - position, MAX_PAYLOAD_SIZE);\n",
              "      const chunk = new Uint8Array(fileData, position, length);\n",
              "      position += length;\n",
              "\n",
              "      const base64 = btoa(String.fromCharCode.apply(null, chunk));\n",
              "      yield {\n",
              "        response: {\n",
              "          action: 'append',\n",
              "          file: file.name,\n",
              "          data: base64,\n",
              "        },\n",
              "      };\n",
              "\n",
              "      let percentDone = fileData.byteLength === 0 ?\n",
              "          100 :\n",
              "          Math.round((position / fileData.byteLength) * 100);\n",
              "      percent.textContent = `${percentDone}% done`;\n",
              "\n",
              "    } while (position < fileData.byteLength);\n",
              "  }\n",
              "\n",
              "  // All done.\n",
              "  yield {\n",
              "    response: {\n",
              "      action: 'complete',\n",
              "    }\n",
              "  };\n",
              "}\n",
              "\n",
              "scope.google = scope.google || {};\n",
              "scope.google.colab = scope.google.colab || {};\n",
              "scope.google.colab._files = {\n",
              "  _uploadFiles,\n",
              "  _uploadFilesContinue,\n",
              "};\n",
              "})(self);\n",
              "</script> "
            ]
          },
          "metadata": {}
        },
        {
          "output_type": "stream",
          "name": "stdout",
          "text": [
            "Saving vehicles.csv to vehicles.csv\n"
          ]
        }
      ],
      "source": [
        "# your code here\n",
        "from google.colab import files\n",
        "uploaded = files.upload()"
      ]
    },
    {
      "cell_type": "markdown",
      "metadata": {
        "id": "FBu-oHj0lyU9"
      },
      "source": [
        "First import vehicles.csv.\n",
        "Then plot the histograms for the following variables:\n",
        "\n",
        "1. Fuel Barrels/Year"
      ]
    },
    {
      "cell_type": "code",
      "execution_count": 27,
      "metadata": {
        "colab": {
          "base_uri": "https://localhost:8080/",
          "height": 487
        },
        "id": "6fBhBDCklyU9",
        "outputId": "29c51975-cee5-446b-92f4-50dd99fde10a"
      },
      "outputs": [
        {
          "output_type": "display_data",
          "data": {
            "text/plain": [
              "<Figure size 800x500 with 1 Axes>"
            ],
            "image/png": "[encoded data removed]"
          },
          "metadata": {}
        }
      ],
      "source": [
        "vehicles = pd.read_csv('vehicles.csv')\n",
        "\n",
        "plt.figure(figsize=(8, 5))\n",
        "plt.hist(vehicles['Fuel Barrels/Year'].dropna(), bins=30, edgecolor='black')\n",
        "plt.title('Histogram of Fuel Barrels/Year')\n",
        "plt.xlabel('Fuel Barrels/Year')\n",
        "plt.ylabel('Count')\n",
        "plt.grid(True)\n",
        "plt.show()"
      ]
    },
    {
      "cell_type": "markdown",
      "metadata": {
        "id": "NAi27JtQlyU-"
      },
      "source": [
        "2. CO2 Emission Grams/Mile"
      ]
    },
    {
      "cell_type": "code",
      "execution_count": 29,
      "metadata": {
        "colab": {
          "base_uri": "https://localhost:8080/",
          "height": 487
        },
        "id": "9kyHCo6dlyU-",
        "outputId": "71384f29-a1a6-48b7-bd73-c17e8eed995e"
      },
      "outputs": [
        {
          "output_type": "display_data",
          "data": {
            "text/plain": [
              "<Figure size 800x500 with 1 Axes>"
            ],
            "image/png": "[encoded data removed]"
          },
          "metadata": {}
        }
      ],
      "source": [
        "# your code here\n",
        "plt.figure(figsize=(8, 5))\n",
        "plt.hist(vehicles['CO2 Emission Grams/Mile'].dropna(), bins=30, edgecolor='black')\n",
        "plt.title('Histogram of CO2 Emission Grams/Mile')\n",
        "plt.xlabel('CO2 Emission Grams/Mile')\n",
        "plt.ylabel('Count')\n",
        "plt.grid(True)\n",
        "plt.show()"
      ]
    },
    {
      "cell_type": "markdown",
      "metadata": {
        "id": "wCZO-puKlyU_"
      },
      "source": [
        "3. Combined MPG"
      ]
    },
    {
      "cell_type": "code",
      "execution_count": 30,
      "metadata": {
        "colab": {
          "base_uri": "https://localhost:8080/",
          "height": 487
        },
        "id": "psTiE9YflyU_",
        "outputId": "c9fba139-8cf0-47a6-fffb-9cb667f30615"
      },
      "outputs": [
        {
          "output_type": "display_data",
          "data": {
            "text/plain": [
              "<Figure size 800x500 with 1 Axes>"
            ],
            "image/png": "[encoded data removed]"
          },
          "metadata": {}
        }
      ],
      "source": [
        "# your code here\n",
        "plt.figure(figsize=(8, 5))\n",
        "plt.hist(vehicles['Combined MPG'].dropna(), bins=30, edgecolor='black')\n",
        "plt.title('Histogram of Combined MPG')\n",
        "plt.xlabel('Combined MPG')\n",
        "plt.ylabel('Count')\n",
        "plt.grid(True)\n",
        "plt.show()"
      ]
    },
    {
      "cell_type": "markdown",
      "metadata": {
        "id": "SCjT0zNMlyVB"
      },
      "source": [
        "Which one(s) of the variables are nearly normally distributed? How do you know?"
      ]
    },
    {
      "cell_type": "code",
      "execution_count": 34,
      "metadata": {
        "colab": {
          "base_uri": "https://localhost:8080/"
        },
        "id": "4j0IsJLRlyVB",
        "outputId": "59b86af2-a108-4533-d311-2cc5cf5b1f11"
      },
      "outputs": [
        {
          "output_type": "stream",
          "name": "stdout",
          "text": [
            "Shapiro-Wilk-Test for Fuel Barrels/Year: p-value = 1.161383045566357e-64\n",
            "Distribution is likely NOT to be normally distributed.\n"
          ]
        }
      ],
      "source": [
        "# your code here\n",
        "from scipy.stats import shapiro\n",
        "\n",
        "stat, p = shapiro(vehicles['Fuel Barrels/Year'].dropna())\n",
        "print('Shapiro-Wilk-Test for Fuel Barrels/Year: p-value =', p)\n",
        "\n",
        "if p > 0.05:\n",
        "    print(\"Distribution is likely to be normally distributed.\")\n",
        "else:\n",
        "    print(\"Distribution is likely NOT to be normally distributed.\")"
      ]
    },
    {
      "cell_type": "code",
      "execution_count": 33,
      "metadata": {
        "colab": {
          "base_uri": "https://localhost:8080/"
        },
        "id": "3XuIhR9dlyVC",
        "outputId": "68f0408e-61c7-4601-b6ae-15124f9e9bfe"
      },
      "outputs": [
        {
          "output_type": "stream",
          "name": "stdout",
          "text": [
            "Shapiro-Wilk-Test: p-value = 1.267649581266336e-64\n",
            "Distribution is likely NOT to be normally distributed.\n"
          ]
        }
      ],
      "source": [
        "# your code here\n",
        "from scipy.stats import shapiro\n",
        "\n",
        "stat, p = shapiro(vehicles['CO2 Emission Grams/Mile'].dropna())\n",
        "print('Shapiro-Wilk-Test for CO2 Emission Grams/Mile: p-value =', p)\n",
        "\n",
        "if p > 0.05:\n",
        "    print(\"Distribution is likely to be normally distributed.\")\n",
        "else:\n",
        "    print(\"Distribution is likely NOT to be normally distributed.\")"
      ]
    },
    {
      "cell_type": "code",
      "execution_count": 32,
      "metadata": {
        "colab": {
          "base_uri": "https://localhost:8080/"
        },
        "id": "ycIZL3EalyVC",
        "outputId": "51286d54-ebf9-4962-c695-735de82c9898"
      },
      "outputs": [
        {
          "output_type": "stream",
          "name": "stdout",
          "text": [
            "Shapiro-Wilk-Test: p-value = 3.5258655045066357e-75\n",
            "Distribution is likely NOT to be normally distributed.\n"
          ]
        }
      ],
      "source": [
        "# your code here\n",
        "from scipy.stats import shapiro\n",
        "\n",
        "stat, p = shapiro(vehicles['Combined MPG'].dropna())\n",
        "print('Shapiro-Wilk-Test for Combined MPG: p-value =', p)\n",
        "\n",
        "if p > 0.05:\n",
        "    print(\"Distribution is likely to be normally distributed.\")\n",
        "else:\n",
        "    print(\"Distribution is likely NOT to be normally distributed.\")"
      ]
    },
    {
      "cell_type": "markdown",
      "source": [],
      "metadata": {
        "id": "mPo-b-mjs1bA"
      }
    },
    {
      "cell_type": "markdown",
      "metadata": {
        "id": "VuxT6vBjlyVC"
      },
      "source": [
        "None of them are normally ditributed."
      ]
    },
    {
      "cell_type": "markdown",
      "metadata": {
        "id": "w6QUfXRHlyVD"
      },
      "source": [
        "## Exponential Distribution"
      ]
    },
    {
      "cell_type": "markdown",
      "metadata": {
        "id": "dKwfhR1nlyVD"
      },
      "source": [
        "1. Using `numpy.random.exponential`, create a function that returns a list of numbers exponentially distributed with the mean of 10.\n",
        "\n",
        "1. Use the function to generate two number sequences with the size of 10 and 100.\n",
        "\n",
        "1. Plot the distributions as histograms with the nubmer of bins as 100.\n",
        "\n",
        "Your output should look like below:\n",
        "\n",
        "![exponential distribution](ed.png)"
      ]
    },
    {
      "cell_type": "code",
      "execution_count": 40,
      "metadata": {
        "colab": {
          "base_uri": "https://localhost:8080/"
        },
        "id": "Kcu9Gdm6lyVR",
        "outputId": "aeb058a1-7c85-4210-e2cc-b0f6e3ae5874"
      },
      "outputs": [
        {
          "output_type": "stream",
          "name": "stdout",
          "text": [
            "10 Exponential numbers with mean = 10: [2.36383056457071, 25.26947520440291, 9.159965923451548, 16.269736106463036, 11.007347936692183, 4.365770114123718, 8.396117231262885, 2.3270817454314168, 19.05733079227047, 7.167958650580768]\n"
          ]
        }
      ],
      "source": [
        "# your code here\n",
        "\n",
        "import numpy as np\n",
        "\n",
        "size = 10\n",
        "\n",
        "def generate_exponential_numbers(size, mean=10):\n",
        "    # Exponential distribution with the given mean\n",
        "    return np.random.exponential(scale=mean, size=size).tolist()\n",
        "\n",
        "# Example usage\n",
        "exponential_numbers = generate_exponential_numbers(size)\n",
        "print(f'{size} Exponential numbers with mean = 10: {exponential_numbers}')"
      ]
    },
    {
      "cell_type": "code",
      "source": [
        "size = 100\n",
        "\n",
        "def generate_exponential_numbers(size, mean=10):\n",
        "    # Exponential distribution with the given mean\n",
        "    return np.random.exponential(scale=mean, size=size).tolist()\n",
        "\n",
        "# Example usage\n",
        "exponential_numbers = generate_exponential_numbers(size)\n",
        "print(f'{size} Exponential numbers with mean = 10: {exponential_numbers}')"
      ],
      "metadata": {
        "colab": {
          "base_uri": "https://localhost:8080/"
        },
        "id": "v6UQTC0wt97K",
        "outputId": "64aaa077-1f11-4dbb-8cb0-a88163a8b057"
      },
      "execution_count": 39,
      "outputs": [
        {
          "output_type": "stream",
          "name": "stdout",
          "text": [
            "100 Exponential numbers with mean = 10: [25.035759770963644, 4.058303305825193, 1.5742265482275148, 37.12033256091586, 3.7111592766663786, 16.22342246818376, 4.0995367538844265, 3.978916907817056, 1.734600348136063, 5.9681297828327695, 1.3922907899533252, 5.021213599847748, 11.16161553956263, 11.364729381048935, 7.194895344641273, 21.877165830986943, 21.851241871025163, 0.6927304127057778, 3.0116456774873344, 2.7083063807043075, 6.197020062979703, 17.25358330779389, 3.605574755073016, 3.4889273700735837, 28.680917590375877, 9.136051630427236, 3.7754951485767108, 12.059301836175344, 11.016105093454431, 0.7857508487451971, 26.603192646918853, 14.860083900844849, 4.658961517867547, 7.759884437448013, 21.177220851109837, 8.501453112857485, 4.938089064451362, 8.62349159809598, 22.583308593119046, 9.78107022389642, 2.1005815730210533, 38.49346150029756, 20.568994624463215, 5.755082924619415, 19.827766758648238, 12.549519010126339, 6.96351720112918, 1.7600585115141092, 0.7222239506040622, 6.83666072408508, 11.718054786356415, 43.07825152638607, 7.23099097864826, 6.601394953072688, 9.14122583643864, 20.709259980542928, 10.189191659906573, 20.80304546075387, 0.11725429154630404, 1.797312516620598, 3.2829364683354885, 7.214491133073301, 7.36648371181193, 27.204547953512197, 4.182052090760091, 6.1993579840813755, 21.34263176850876, 8.446417196207694, 8.867970197732584, 8.668978205542455, 24.746216166635207, 7.817997408802327, 2.58846022777993, 2.7567571979684375, 0.8040237438979524, 9.645232374030915, 3.239295832567085, 21.92036380525832, 6.775383531773733, 0.3286409240315975, 18.770490378686496, 1.2463185893444348, 14.698959259971883, 49.96743410951363, 8.336027990733912, 4.701599618135978, 0.5694210023177414, 0.7744832228906838, 9.492668555429395, 15.496924993191659, 8.391440738154186, 10.918492161007693, 2.246569416833869, 0.16019508418687625, 0.43842356400627036, 18.32479497596622, 3.2685341928095357, 21.344209975919238, 2.197307032101706, 17.08508769239806]\n"
          ]
        }
      ]
    },
    {
      "cell_type": "markdown",
      "metadata": {
        "id": "TAkYOj-MlyVR"
      },
      "source": [
        "How are the two distributions different?"
      ]
    },
    {
      "cell_type": "markdown",
      "metadata": {
        "id": "O-RG7sEGlyVS"
      },
      "source": [
        "The mean changes, so the distribution changes as well."
      ]
    },
    {
      "cell_type": "markdown",
      "metadata": {
        "id": "4Owwk7YElyVS"
      },
      "source": [
        "## Exponential Distribution of Real Data\n",
        "\n",
        "Suppose that the amount of time one spends in a bank is exponentially distributed with mean as 10 minutes (i.e. λ = 1/10). What is the probability that a customer will spend less than fifteen minutes in the bank?\n",
        "\n",
        "Write a code in python to solve this problem"
      ]
    },
    {
      "cell_type": "code",
      "execution_count": 42,
      "metadata": {
        "colab": {
          "base_uri": "https://localhost:8080/"
        },
        "id": "M7fUqrdalyVS",
        "outputId": "63eace24-b556-4064-b966-dfc8229ed9ac"
      },
      "outputs": [
        {
          "output_type": "stream",
          "name": "stdout",
          "text": [
            "Probability that a customer will spend less than 15 minutes in the bank: 0.7769\n"
          ]
        }
      ],
      "source": [
        "# your code here\n",
        "import numpy as np\n",
        "from scipy.stats import expon\n",
        "\n",
        "mean = 10\n",
        "lambda_ = 1 / mean  #(λ)\n",
        "x = 15\n",
        "\n",
        "# Calculate the probability that a customer will spend less than 15 minutes\n",
        "P_less_than_15 = expon.cdf(x, scale=1/lambda_)\n",
        "print(f\"Probability that a customer will spend less than 15 minutes in the bank: {P_less_than_15:.4f}\")\n",
        "\n"
      ]
    },
    {
      "cell_type": "markdown",
      "metadata": {
        "id": "REPb6YtUlyVS"
      },
      "source": [
        "What is the probability that the customer will spend more than 15 minutes"
      ]
    },
    {
      "cell_type": "code",
      "execution_count": 43,
      "metadata": {
        "colab": {
          "base_uri": "https://localhost:8080/"
        },
        "id": "5IAwywN1lyVS",
        "outputId": "d3831564-56ea-4a8a-d109-d3e7600d3812"
      },
      "outputs": [
        {
          "output_type": "stream",
          "name": "stdout",
          "text": [
            "Probability that a customer will spend more than 15 minutes in the bank: 0.2231\n"
          ]
        }
      ],
      "source": [
        "# your code here\n",
        "# your code here\n",
        "import numpy as np\n",
        "from scipy.stats import expon\n",
        "\n",
        "mean = 10\n",
        "lambda_ = 1 / mean  #(λ)\n",
        "x = 15\n",
        "\n",
        "# Calculate the probability that a customer will spend less than 15 minutes\n",
        "P_less_than_15 = 1-expon.cdf(x, scale=1/lambda_)\n",
        "print(f\"Probability that a customer will spend more than 15 minutes in the bank: {P_less_than_15:.4f}\")\n",
        "\n"
      ]
    }
  ],
  "metadata": {
    "kernelspec": {
      "display_name": "Python 3 (ipykernel)",
      "language": "python",
      "name": "python3"
    },
    "language_info": {
      "codemirror_mode": {
        "name": "ipython",
        "version": 3
      },
      "file_extension": ".py",
      "mimetype": "text/x-python",
      "name": "python",
      "nbconvert_exporter": "python",
      "pygments_lexer": "ipython3",
      "version": "3.10.6"
    },
    "colab": {
      "provenance": []
    }
  },
  "nbformat": 4,
  "nbformat_minor": 0
}